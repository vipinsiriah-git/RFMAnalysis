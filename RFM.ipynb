{
  "nbformat": 4,
  "nbformat_minor": 0,
  "metadata": {
    "kernelspec": {
      "display_name": "Python 3",
      "language": "python",
      "name": "python3"
    },
    "language_info": {
      "codemirror_mode": {
        "name": "ipython",
        "version": 3
      },
      "file_extension": ".py",
      "mimetype": "text/x-python",
      "name": "python",
      "nbconvert_exporter": "python",
      "pygments_lexer": "ipython3",
      "version": "3.7.6"
    },
    "colab": {
      "name": "Customer Insights.ipynb",
      "provenance": [],
      "collapsed_sections": []
    }
  },
  "cells": [
    {
      "cell_type": "code",
      "metadata": {
        "id": "_l7-9DDQ2n6U",
        "outputId": "b304f5b0-7072-4482-def9-40edbd39f1ec",
        "colab": {
          "base_uri": "https://localhost:8080/",
          "height": 356
        }
      },
      "source": [
        "pip install seaborn==0.10.0"
      ],
      "execution_count": null,
      "outputs": [
        {
          "output_type": "stream",
          "text": [
            "Collecting seaborn==0.10.0\n",
            "\u001b[?25l  Downloading https://files.pythonhosted.org/packages/70/bd/5e6bf595fe6ee0f257ae49336dd180768c1ed3d7c7155b2fdf894c1c808a/seaborn-0.10.0-py3-none-any.whl (215kB)\n",
            "\r\u001b[K     |█▌                              | 10kB 18.2MB/s eta 0:00:01\r\u001b[K     |███                             | 20kB 1.7MB/s eta 0:00:01\r\u001b[K     |████▌                           | 30kB 2.3MB/s eta 0:00:01\r\u001b[K     |██████                          | 40kB 2.6MB/s eta 0:00:01\r\u001b[K     |███████▋                        | 51kB 2.0MB/s eta 0:00:01\r\u001b[K     |█████████                       | 61kB 2.3MB/s eta 0:00:01\r\u001b[K     |██████████▋                     | 71kB 2.5MB/s eta 0:00:01\r\u001b[K     |████████████▏                   | 81kB 2.8MB/s eta 0:00:01\r\u001b[K     |█████████████▋                  | 92kB 2.9MB/s eta 0:00:01\r\u001b[K     |███████████████▏                | 102kB 2.8MB/s eta 0:00:01\r\u001b[K     |████████████████▊               | 112kB 2.8MB/s eta 0:00:01\r\u001b[K     |██████████████████▏             | 122kB 2.8MB/s eta 0:00:01\r\u001b[K     |███████████████████▊            | 133kB 2.8MB/s eta 0:00:01\r\u001b[K     |█████████████████████▎          | 143kB 2.8MB/s eta 0:00:01\r\u001b[K     |██████████████████████▊         | 153kB 2.8MB/s eta 0:00:01\r\u001b[K     |████████████████████████▎       | 163kB 2.8MB/s eta 0:00:01\r\u001b[K     |█████████████████████████▉      | 174kB 2.8MB/s eta 0:00:01\r\u001b[K     |███████████████████████████▎    | 184kB 2.8MB/s eta 0:00:01\r\u001b[K     |████████████████████████████▉   | 194kB 2.8MB/s eta 0:00:01\r\u001b[K     |██████████████████████████████▍ | 204kB 2.8MB/s eta 0:00:01\r\u001b[K     |███████████████████████████████▉| 215kB 2.8MB/s eta 0:00:01\r\u001b[K     |████████████████████████████████| 225kB 2.8MB/s \n",
            "\u001b[?25hRequirement already satisfied: numpy>=1.13.3 in /usr/local/lib/python3.6/dist-packages (from seaborn==0.10.0) (1.18.5)\n",
            "Requirement already satisfied: scipy>=1.0.1 in /usr/local/lib/python3.6/dist-packages (from seaborn==0.10.0) (1.4.1)\n",
            "Requirement already satisfied: matplotlib>=2.1.2 in /usr/local/lib/python3.6/dist-packages (from seaborn==0.10.0) (3.2.2)\n",
            "Requirement already satisfied: pandas>=0.22.0 in /usr/local/lib/python3.6/dist-packages (from seaborn==0.10.0) (1.0.5)\n",
            "Requirement already satisfied: python-dateutil>=2.1 in /usr/local/lib/python3.6/dist-packages (from matplotlib>=2.1.2->seaborn==0.10.0) (2.8.1)\n",
            "Requirement already satisfied: kiwisolver>=1.0.1 in /usr/local/lib/python3.6/dist-packages (from matplotlib>=2.1.2->seaborn==0.10.0) (1.2.0)\n",
            "Requirement already satisfied: cycler>=0.10 in /usr/local/lib/python3.6/dist-packages (from matplotlib>=2.1.2->seaborn==0.10.0) (0.10.0)\n",
            "Requirement already satisfied: pyparsing!=2.0.4,!=2.1.2,!=2.1.6,>=2.0.1 in /usr/local/lib/python3.6/dist-packages (from matplotlib>=2.1.2->seaborn==0.10.0) (2.4.7)\n",
            "Requirement already satisfied: pytz>=2017.2 in /usr/local/lib/python3.6/dist-packages (from pandas>=0.22.0->seaborn==0.10.0) (2018.9)\n",
            "Requirement already satisfied: six>=1.5 in /usr/local/lib/python3.6/dist-packages (from python-dateutil>=2.1->matplotlib>=2.1.2->seaborn==0.10.0) (1.15.0)\n",
            "Installing collected packages: seaborn\n",
            "  Found existing installation: seaborn 0.10.1\n",
            "    Uninstalling seaborn-0.10.1:\n",
            "      Successfully uninstalled seaborn-0.10.1\n",
            "Successfully installed seaborn-0.10.0\n"
          ],
          "name": "stdout"
        }
      ]
    },
    {
      "cell_type": "code",
      "metadata": {
        "id": "Fr8RSWqxdJAG"
      },
      "source": [
        "%matplotlib inline\n",
        "import pandas as pd\n",
        "from datetime import timedelta\n",
        "import matplotlib.pyplot as plt\n",
        "import seaborn as sns"
      ],
      "execution_count": null,
      "outputs": []
    },
    {
      "cell_type": "code",
      "metadata": {
        "id": "H_2nvDip2whD",
        "outputId": "334481da-64d5-4b55-e492-8f5b69c449b2",
        "colab": {
          "base_uri": "https://localhost:8080/",
          "height": 107
        }
      },
      "source": [
        "pip install squarify"
      ],
      "execution_count": null,
      "outputs": [
        {
          "output_type": "stream",
          "text": [
            "Collecting squarify\n",
            "  Downloading https://files.pythonhosted.org/packages/0b/2b/2e77c35326efec19819cd1d729540d4d235e6c2a3f37658288a363a67da5/squarify-0.4.3-py3-none-any.whl\n",
            "Installing collected packages: squarify\n",
            "Successfully installed squarify-0.4.3\n"
          ],
          "name": "stdout"
        }
      ]
    },
    {
      "cell_type": "code",
      "metadata": {
        "id": "Xf0qkJ0y2n6y"
      },
      "source": [
        "import squarify"
      ],
      "execution_count": null,
      "outputs": []
    },
    {
      "cell_type": "code",
      "metadata": {
        "id": "yG5XGNSmqhKT"
      },
      "source": [
        "with open('/content/ML Data.txt','rb') as file:\n",
        "  lines=file.readlines()"
      ],
      "execution_count": null,
      "outputs": []
    },
    {
      "cell_type": "code",
      "metadata": {
        "id": "UCXSN5Wlq5iQ"
      },
      "source": [
        "list_=[]\n",
        "for line in lines:\n",
        "  line=line.decode(\"cp1252\") \n",
        "  items=line.split(',')\n",
        "  if len(items)>8:\n",
        "    items=items[:2]+[' '.join(items[2:2+(len(line.split(','))-7)])]+items[-5:]  \n",
        "  if len(items)==8:\n",
        "    list_.append(items)\n",
        "  else:\n",
        "    if len(list_)>0:\n",
        "      print(items)\n",
        "      \n",
        "    #raise Exception \n",
        "    \n",
        "\n"
      ],
      "execution_count": null,
      "outputs": []
    },
    {
      "cell_type": "code",
      "metadata": {
        "id": "4ep8QrlG2n7T"
      },
      "source": [
        "# Read dataset\n",
        "online = pd.DataFrame(list_)\n",
        "\n",
        "for col in online.columns:\n",
        "  online[col]=online[col].str.replace('\"','')\n",
        "  online[col]=online[col].str.replace('\\r\\n','')\n",
        "\n",
        "online.columns=online.iloc[0]\n",
        "online=online.iloc[1:]"
      ],
      "execution_count": null,
      "outputs": []
    },
    {
      "cell_type": "code",
      "metadata": {
        "id": "SbGFLG56tkmI",
        "outputId": "aeb8e39a-a36f-48be-b780-7927c32054e4",
        "colab": {
          "base_uri": "https://localhost:8080/",
          "height": 423
        }
      },
      "source": [
        "online"
      ],
      "execution_count": null,
      "outputs": [
        {
          "output_type": "execute_result",
          "data": {
            "text/html": [
              "<div>\n",
              "<style scoped>\n",
              "    .dataframe tbody tr th:only-of-type {\n",
              "        vertical-align: middle;\n",
              "    }\n",
              "\n",
              "    .dataframe tbody tr th {\n",
              "        vertical-align: top;\n",
              "    }\n",
              "\n",
              "    .dataframe thead th {\n",
              "        text-align: right;\n",
              "    }\n",
              "</style>\n",
              "<table border=\"1\" class=\"dataframe\">\n",
              "  <thead>\n",
              "    <tr style=\"text-align: right;\">\n",
              "      <th></th>\n",
              "      <th>Invoice_Number</th>\n",
              "      <th>Product_Code</th>\n",
              "      <th>Description</th>\n",
              "      <th>Quantity</th>\n",
              "      <th>Invoice_Date</th>\n",
              "      <th>Unit_Price</th>\n",
              "      <th>Customer_ID</th>\n",
              "      <th>Country</th>\n",
              "    </tr>\n",
              "  </thead>\n",
              "  <tbody>\n",
              "    <tr>\n",
              "      <th>1</th>\n",
              "      <td>536365</td>\n",
              "      <td>85123A</td>\n",
              "      <td>WHITE HANGING HEART T-LIGHT HOLDER</td>\n",
              "      <td>6</td>\n",
              "      <td>12-01-2010 08:26</td>\n",
              "      <td>2.55</td>\n",
              "      <td>17850</td>\n",
              "      <td>United Kingdom</td>\n",
              "    </tr>\n",
              "    <tr>\n",
              "      <th>2</th>\n",
              "      <td>536365</td>\n",
              "      <td>71053</td>\n",
              "      <td>WHITE METAL LANTERN</td>\n",
              "      <td>6</td>\n",
              "      <td>12-01-2010 08:26</td>\n",
              "      <td>3.39</td>\n",
              "      <td>17850</td>\n",
              "      <td>United Kingdom</td>\n",
              "    </tr>\n",
              "    <tr>\n",
              "      <th>3</th>\n",
              "      <td>536365</td>\n",
              "      <td>84406B</td>\n",
              "      <td>CREAM CUPID HEARTS COAT HANGER</td>\n",
              "      <td>8</td>\n",
              "      <td>12-01-2010 08:26</td>\n",
              "      <td>2.75</td>\n",
              "      <td>17850</td>\n",
              "      <td>United Kingdom</td>\n",
              "    </tr>\n",
              "    <tr>\n",
              "      <th>4</th>\n",
              "      <td>536365</td>\n",
              "      <td>84029G</td>\n",
              "      <td>KNITTED UNION FLAG HOT WATER BOTTLE</td>\n",
              "      <td>6</td>\n",
              "      <td>12-01-2010 08:26</td>\n",
              "      <td>3.39</td>\n",
              "      <td>17850</td>\n",
              "      <td>United Kingdom</td>\n",
              "    </tr>\n",
              "    <tr>\n",
              "      <th>5</th>\n",
              "      <td>536365</td>\n",
              "      <td>84029E</td>\n",
              "      <td>RED WOOLLY HOTTIE WHITE HEART.</td>\n",
              "      <td>6</td>\n",
              "      <td>12-01-2010 08:26</td>\n",
              "      <td>3.39</td>\n",
              "      <td>17850</td>\n",
              "      <td>United Kingdom</td>\n",
              "    </tr>\n",
              "    <tr>\n",
              "      <th>...</th>\n",
              "      <td>...</td>\n",
              "      <td>...</td>\n",
              "      <td>...</td>\n",
              "      <td>...</td>\n",
              "      <td>...</td>\n",
              "      <td>...</td>\n",
              "      <td>...</td>\n",
              "      <td>...</td>\n",
              "    </tr>\n",
              "    <tr>\n",
              "      <th>60468</th>\n",
              "      <td>541422</td>\n",
              "      <td>21849</td>\n",
              "      <td>SILVER DIAMANTE PEN IN GIFT BOX</td>\n",
              "      <td>2</td>\n",
              "      <td>1/17/2011 17:48</td>\n",
              "      <td>1.63</td>\n",
              "      <td></td>\n",
              "      <td>United Kingdom</td>\n",
              "    </tr>\n",
              "    <tr>\n",
              "      <th>60469</th>\n",
              "      <td>541422</td>\n",
              "      <td>21850</td>\n",
              "      <td>BLUE  DIAMANTE PEN IN GIFT BOX</td>\n",
              "      <td>1</td>\n",
              "      <td>1/17/2011 17:48</td>\n",
              "      <td>1.63</td>\n",
              "      <td></td>\n",
              "      <td>United Kingdom</td>\n",
              "    </tr>\n",
              "    <tr>\n",
              "      <th>60470</th>\n",
              "      <td>541422</td>\n",
              "      <td>21851</td>\n",
              "      <td>LILAC DIAMANTE PEN IN GIFT BOX</td>\n",
              "      <td>2</td>\n",
              "      <td>1/17/2011 17:48</td>\n",
              "      <td>1.63</td>\n",
              "      <td></td>\n",
              "      <td>United Kingdom</td>\n",
              "    </tr>\n",
              "    <tr>\n",
              "      <th>60471</th>\n",
              "      <td>541422</td>\n",
              "      <td>21868</td>\n",
              "      <td>POTTING SHED TEA MUG</td>\n",
              "      <td>1</td>\n",
              "      <td>1/17/2011 17:48</td>\n",
              "      <td>3.29</td>\n",
              "      <td></td>\n",
              "      <td>United Kingdom</td>\n",
              "    </tr>\n",
              "    <tr>\n",
              "      <th>60472</th>\n",
              "      <td>541422</td>\n",
              "      <td>21874</td>\n",
              "      <td>GIN AND TONIC MUG</td>\n",
              "      <td>1</td>\n",
              "      <td>1/17/2011 17:48</td>\n",
              "      <td>3.29</td>\n",
              "      <td></td>\n",
              "      <td>United Kingd</td>\n",
              "    </tr>\n",
              "  </tbody>\n",
              "</table>\n",
              "<p>60472 rows × 8 columns</p>\n",
              "</div>"
            ],
            "text/plain": [
              "0     Invoice_Number Product_Code  ... Customer_ID         Country\n",
              "1             536365       85123A  ...       17850  United Kingdom\n",
              "2             536365        71053  ...       17850  United Kingdom\n",
              "3             536365       84406B  ...       17850  United Kingdom\n",
              "4             536365       84029G  ...       17850  United Kingdom\n",
              "5             536365       84029E  ...       17850  United Kingdom\n",
              "...              ...          ...  ...         ...             ...\n",
              "60468         541422        21849  ...              United Kingdom\n",
              "60469         541422        21850  ...              United Kingdom\n",
              "60470         541422        21851  ...              United Kingdom\n",
              "60471         541422        21868  ...              United Kingdom\n",
              "60472         541422        21874  ...                United Kingd\n",
              "\n",
              "[60472 rows x 8 columns]"
            ]
          },
          "metadata": {
            "tags": []
          },
          "execution_count": 36
        }
      ]
    },
    {
      "cell_type": "code",
      "metadata": {
        "id": "DQ3IyqvDsxc9",
        "outputId": "98f18448-b2c3-430f-f4df-695466053dec",
        "colab": {
          "base_uri": "https://localhost:8080/",
          "height": 70
        }
      },
      "source": [
        "online.columns"
      ],
      "execution_count": null,
      "outputs": [
        {
          "output_type": "execute_result",
          "data": {
            "text/plain": [
              "Index(['Invoice_Number', 'Product_Code', 'Description', 'Quantity',\n",
              "       'Invoice_Date', 'Unit_Price', 'Customer_ID', 'Country'],\n",
              "      dtype='object', name=0)"
            ]
          },
          "metadata": {
            "tags": []
          },
          "execution_count": 37
        }
      ]
    },
    {
      "cell_type": "code",
      "metadata": {
        "id": "yqkg0kcswLdL"
      },
      "source": [
        "online['Invoice_Date']=pd.to_datetime(online['Invoice_Date'])"
      ],
      "execution_count": null,
      "outputs": []
    },
    {
      "cell_type": "code",
      "metadata": {
        "id": "fP844haY2n7m",
        "outputId": "42e42744-540a-405d-9ce8-b3d01ecc425a",
        "colab": {
          "base_uri": "https://localhost:8080/",
          "height": 70
        }
      },
      "source": [
        "\n",
        "print('{:,} rows; {:,} columns'.format(online.shape[0], online.shape[1]))\n",
        "print('{:,} transactions don\\'t have a customer id'.format(online[online['Customer_ID'].isnull()].shape[0]))\n",
        "print('Transactions timeframe from {} to {}'.format(online['Invoice_Date'].min(),online['Invoice_Date'].max()))"
      ],
      "execution_count": null,
      "outputs": [
        {
          "output_type": "stream",
          "text": [
            "60,472 rows; 9 columns\n",
            "0 transactions don't have a customer id\n",
            "Transactions timeframe from 2010-12-01 08:26:00 to 2011-01-17 17:48:00\n"
          ],
          "name": "stdout"
        }
      ]
    },
    {
      "cell_type": "code",
      "metadata": {
        "id": "HXXrPZwS2n8G",
        "outputId": "ebbc1572-6ecd-4290-9208-cb7d0a57f9d9",
        "colab": {
          "base_uri": "https://localhost:8080/",
          "height": 34
        }
      },
      "source": [
        "# Create TotalSum column for online dataset\n",
        "online['Invoice_Value'] = online['Unit_Price'].astype(float) * online['Quantity'].astype(float)\n",
        "# Create snapshot date\n",
        "snapshot_date = online['Invoice_Date'].max() + timedelta(days=1)\n",
        "print(snapshot_date)\n",
        "# Grouping by CustomerID\n",
        "data_process = online.groupby(['Customer_ID']).agg({\n",
        "        'Invoice_Date': lambda x: (snapshot_date - x.max()).days,\n",
        "        'Quantity': 'count',\n",
        "        'Invoice_Value': 'sum'})\n",
        "# Rename the columns \n",
        "data_process.rename(columns={'Invoice_Date': 'Recency',\n",
        "                         'Quantity': 'Frequency',\n",
        "                         'Invoice_Value': 'MonetaryValue'}, inplace=True)\n",
        "\n"
      ],
      "execution_count": null,
      "outputs": [
        {
          "output_type": "stream",
          "text": [
            "2011-01-18 17:48:00\n"
          ],
          "name": "stdout"
        }
      ]
    },
    {
      "cell_type": "code",
      "metadata": {
        "id": "_sCQrWO7wBzH"
      },
      "source": [
        "import math"
      ],
      "execution_count": null,
      "outputs": []
    },
    {
      "cell_type": "code",
      "metadata": {
        "id": "cUi0eErHwh5O",
        "outputId": "c863772c-2e61-4ff1-cc4a-9267cc1a34aa",
        "colab": {
          "base_uri": "https://localhost:8080/",
          "height": 247
        }
      },
      "source": [
        "data_process['MonetaryValue']"
      ],
      "execution_count": null,
      "outputs": [
        {
          "output_type": "execute_result",
          "data": {
            "text/plain": [
              "Customer_ID\n",
              "         222210.88\n",
              "12347       711.79\n",
              "12348       892.80\n",
              "12359       547.50\n",
              "12370      1868.02\n",
              "           ...    \n",
              "18256       -50.10\n",
              "18259       376.30\n",
              "18260       787.77\n",
              "18269       138.90\n",
              "18283       108.45\n",
              "Name: MonetaryValue, Length: 1166, dtype: float64"
            ]
          },
          "metadata": {
            "tags": []
          },
          "execution_count": 54
        }
      ]
    },
    {
      "cell_type": "code",
      "metadata": {
        "id": "qgu0BrcD2n88",
        "outputId": "8d94ad8b-f8fa-40b3-aca9-ff47f7d5c180",
        "colab": {
          "base_uri": "https://localhost:8080/",
          "height": 701
        }
      },
      "source": [
        "# Plot RFM distributions\n",
        "plt.figure(figsize=(12,10))\n",
        "# Plot distribution of R\n",
        "plt.subplot(3, 1, 1); sns.distplot(data_process['Recency'])\n",
        "# Plot distribution of F\n",
        "plt.subplot(3, 1, 2); sns.distplot(pd.np.log10(data_process['Frequency']))\n",
        "# Plot distribution of M\n",
        "plt.subplot(3, 1, 3); sns.distplot([pd.np.log10(x) for x in data_process['MonetaryValue'] if x > 0])\n",
        "# Show the plot\n",
        "#plt.gcf()"
      ],
      "execution_count": null,
      "outputs": [
        {
          "output_type": "stream",
          "text": [
            "/usr/local/lib/python3.6/dist-packages/ipykernel_launcher.py:6: FutureWarning: The pandas.np module is deprecated and will be removed from pandas in a future version. Import numpy directly instead\n",
            "  \n",
            "/usr/local/lib/python3.6/dist-packages/ipykernel_launcher.py:8: FutureWarning: The pandas.np module is deprecated and will be removed from pandas in a future version. Import numpy directly instead\n",
            "  \n"
          ],
          "name": "stderr"
        },
        {
          "output_type": "execute_result",
          "data": {
            "text/plain": [
              "<matplotlib.axes._subplots.AxesSubplot at 0x7f11718afeb8>"
            ]
          },
          "metadata": {
            "tags": []
          },
          "execution_count": 55
        },
        {
          "output_type": "display_data",
          "data": {
            "image/png": "[encoded data removed]",
            "text/plain": [
              "<Figure size 864x720 with 3 Axes>"
            ]
          },
          "metadata": {
            "tags": [],
            "needs_background": "light"
          }
        }
      ]
    },
    {
      "cell_type": "code",
      "metadata": {
        "scrolled": false,
        "id": "hyXL3PDq2n9q"
      },
      "source": [
        "data_process.to_csv('RFMScores.csv')"
      ],
      "execution_count": null,
      "outputs": []
    },
    {
      "cell_type": "code",
      "metadata": {
        "id": "0L3loNsO2n98",
        "outputId": "60dc3254-41c2-4e52-e10b-222c08489654",
        "colab": {
          "base_uri": "https://localhost:8080/",
          "height": 227
        }
      },
      "source": [
        "# Create labels for Recency and Frequency\n",
        "r_labels = range(4, 0, -1); f_labels = range(1, 5)\n",
        "# Assign these labels to 4 equal percentile groups \n",
        "r_groups = pd.qcut(data_process['Recency'], q=4,labels=r_labels, duplicates='drop')\n",
        "# Assign these labels to 4 equal percentile groups \n",
        "f_groups = pd.qcut(data_process['Frequency'], q=4, labels=f_labels,duplicates='drop')\n",
        "# Create new columns R and F \n",
        "data_process = data_process.assign(R = r_groups.values, F = f_groups.values)\n",
        "data_process.head()"
      ],
      "execution_count": null,
      "outputs": [
        {
          "output_type": "execute_result",
          "data": {
            "text/html": [
              "<div>\n",
              "<style scoped>\n",
              "    .dataframe tbody tr th:only-of-type {\n",
              "        vertical-align: middle;\n",
              "    }\n",
              "\n",
              "    .dataframe tbody tr th {\n",
              "        vertical-align: top;\n",
              "    }\n",
              "\n",
              "    .dataframe thead th {\n",
              "        text-align: right;\n",
              "    }\n",
              "</style>\n",
              "<table border=\"1\" class=\"dataframe\">\n",
              "  <thead>\n",
              "    <tr style=\"text-align: right;\">\n",
              "      <th></th>\n",
              "      <th>Recency</th>\n",
              "      <th>Frequency</th>\n",
              "      <th>MonetaryValue</th>\n",
              "      <th>R</th>\n",
              "      <th>F</th>\n",
              "    </tr>\n",
              "    <tr>\n",
              "      <th>Customer_ID</th>\n",
              "      <th></th>\n",
              "      <th></th>\n",
              "      <th></th>\n",
              "      <th></th>\n",
              "      <th></th>\n",
              "    </tr>\n",
              "  </thead>\n",
              "  <tbody>\n",
              "    <tr>\n",
              "      <th></th>\n",
              "      <td>1</td>\n",
              "      <td>22423</td>\n",
              "      <td>222210.88</td>\n",
              "      <td>4</td>\n",
              "      <td>4</td>\n",
              "    </tr>\n",
              "    <tr>\n",
              "      <th>12347</th>\n",
              "      <td>42</td>\n",
              "      <td>31</td>\n",
              "      <td>711.79</td>\n",
              "      <td>1</td>\n",
              "      <td>3</td>\n",
              "    </tr>\n",
              "    <tr>\n",
              "      <th>12348</th>\n",
              "      <td>32</td>\n",
              "      <td>17</td>\n",
              "      <td>892.80</td>\n",
              "      <td>3</td>\n",
              "      <td>2</td>\n",
              "    </tr>\n",
              "    <tr>\n",
              "      <th>12359</th>\n",
              "      <td>6</td>\n",
              "      <td>16</td>\n",
              "      <td>547.50</td>\n",
              "      <td>4</td>\n",
              "      <td>2</td>\n",
              "    </tr>\n",
              "    <tr>\n",
              "      <th>12370</th>\n",
              "      <td>32</td>\n",
              "      <td>91</td>\n",
              "      <td>1868.02</td>\n",
              "      <td>3</td>\n",
              "      <td>4</td>\n",
              "    </tr>\n",
              "  </tbody>\n",
              "</table>\n",
              "</div>"
            ],
            "text/plain": [
              "             Recency  Frequency  MonetaryValue  R  F\n",
              "Customer_ID                                         \n",
              "                   1      22423      222210.88  4  4\n",
              "12347             42         31         711.79  1  3\n",
              "12348             32         17         892.80  3  2\n",
              "12359              6         16         547.50  4  2\n",
              "12370             32         91        1868.02  3  4"
            ]
          },
          "metadata": {
            "tags": []
          },
          "execution_count": 57
        }
      ]
    },
    {
      "cell_type": "code",
      "metadata": {
        "id": "86Hyli522n-l"
      },
      "source": [
        "# Create labels for MonetaryValue\n",
        "m_labels = range(1, 5)\n",
        "# Assign these labels to three equal percentile groups \n",
        "m_groups = pd.qcut(data_process['MonetaryValue'], q=4, labels=m_labels)\n",
        "# Create new column M\n",
        "data_process = data_process.assign(M = m_groups.values)"
      ],
      "execution_count": null,
      "outputs": []
    },
    {
      "cell_type": "code",
      "metadata": {
        "id": "XFhAQKjm2n-x",
        "outputId": "241a20f8-91b6-4c99-86a0-6b483bc85cb6",
        "colab": {
          "base_uri": "https://localhost:8080/",
          "height": 227
        }
      },
      "source": [
        "def join_rfm(x): return str(x['R']) + str(x['F']) + str(x['M'])\n",
        "data_process['RFM_Segment_Concat'] = data_process.apply(join_rfm, axis=1)\n",
        "rfm = data_process\n",
        "rfm.head()"
      ],
      "execution_count": null,
      "outputs": [
        {
          "output_type": "execute_result",
          "data": {
            "text/html": [
              "<div>\n",
              "<style scoped>\n",
              "    .dataframe tbody tr th:only-of-type {\n",
              "        vertical-align: middle;\n",
              "    }\n",
              "\n",
              "    .dataframe tbody tr th {\n",
              "        vertical-align: top;\n",
              "    }\n",
              "\n",
              "    .dataframe thead th {\n",
              "        text-align: right;\n",
              "    }\n",
              "</style>\n",
              "<table border=\"1\" class=\"dataframe\">\n",
              "  <thead>\n",
              "    <tr style=\"text-align: right;\">\n",
              "      <th></th>\n",
              "      <th>Recency</th>\n",
              "      <th>Frequency</th>\n",
              "      <th>MonetaryValue</th>\n",
              "      <th>R</th>\n",
              "      <th>F</th>\n",
              "      <th>M</th>\n",
              "      <th>RFM_Segment_Concat</th>\n",
              "    </tr>\n",
              "    <tr>\n",
              "      <th>Customer_ID</th>\n",
              "      <th></th>\n",
              "      <th></th>\n",
              "      <th></th>\n",
              "      <th></th>\n",
              "      <th></th>\n",
              "      <th></th>\n",
              "      <th></th>\n",
              "    </tr>\n",
              "  </thead>\n",
              "  <tbody>\n",
              "    <tr>\n",
              "      <th></th>\n",
              "      <td>1</td>\n",
              "      <td>22423</td>\n",
              "      <td>222210.88</td>\n",
              "      <td>4</td>\n",
              "      <td>4</td>\n",
              "      <td>4</td>\n",
              "      <td>444</td>\n",
              "    </tr>\n",
              "    <tr>\n",
              "      <th>12347</th>\n",
              "      <td>42</td>\n",
              "      <td>31</td>\n",
              "      <td>711.79</td>\n",
              "      <td>1</td>\n",
              "      <td>3</td>\n",
              "      <td>4</td>\n",
              "      <td>134</td>\n",
              "    </tr>\n",
              "    <tr>\n",
              "      <th>12348</th>\n",
              "      <td>32</td>\n",
              "      <td>17</td>\n",
              "      <td>892.80</td>\n",
              "      <td>3</td>\n",
              "      <td>2</td>\n",
              "      <td>4</td>\n",
              "      <td>324</td>\n",
              "    </tr>\n",
              "    <tr>\n",
              "      <th>12359</th>\n",
              "      <td>6</td>\n",
              "      <td>16</td>\n",
              "      <td>547.50</td>\n",
              "      <td>4</td>\n",
              "      <td>2</td>\n",
              "      <td>3</td>\n",
              "      <td>423</td>\n",
              "    </tr>\n",
              "    <tr>\n",
              "      <th>12370</th>\n",
              "      <td>32</td>\n",
              "      <td>91</td>\n",
              "      <td>1868.02</td>\n",
              "      <td>3</td>\n",
              "      <td>4</td>\n",
              "      <td>4</td>\n",
              "      <td>344</td>\n",
              "    </tr>\n",
              "  </tbody>\n",
              "</table>\n",
              "</div>"
            ],
            "text/plain": [
              "             Recency  Frequency  MonetaryValue  R  F  M RFM_Segment_Concat\n",
              "Customer_ID                                                               \n",
              "                   1      22423      222210.88  4  4  4                444\n",
              "12347             42         31         711.79  1  3  4                134\n",
              "12348             32         17         892.80  3  2  4                324\n",
              "12359              6         16         547.50  4  2  3                423\n",
              "12370             32         91        1868.02  3  4  4                344"
            ]
          },
          "metadata": {
            "tags": []
          },
          "execution_count": 59
        }
      ]
    },
    {
      "cell_type": "code",
      "metadata": {
        "id": "hj2ZY0yw2n_G"
      },
      "source": [
        "rfm.to_csv('rfm.csv')"
      ],
      "execution_count": null,
      "outputs": []
    },
    {
      "cell_type": "code",
      "metadata": {
        "id": "0XwzfO_r2oAm",
        "outputId": "8759208b-f7d5-4ec5-cb91-c7b14f0f3279",
        "colab": {
          "base_uri": "https://localhost:8080/",
          "height": 34
        }
      },
      "source": [
        "rfm_count_unique = rfm.groupby('RFM_Segment_Concat')['RFM_Segment_Concat'].nunique()\n",
        "print(rfm_count_unique.sum())"
      ],
      "execution_count": null,
      "outputs": [
        {
          "output_type": "stream",
          "text": [
            "63\n"
          ],
          "name": "stdout"
        }
      ]
    },
    {
      "cell_type": "code",
      "metadata": {
        "id": "S7bB8rIa2oAx",
        "outputId": "7755037b-f4b3-424d-927b-9ebaa91bc90b",
        "colab": {
          "base_uri": "https://localhost:8080/",
          "height": 141
        }
      },
      "source": [
        "rfm['RFM_Score'] = rfm[['R','F','M']].sum(axis=1)\n",
        "print(rfm['RFM_Score'].head())"
      ],
      "execution_count": null,
      "outputs": [
        {
          "output_type": "stream",
          "text": [
            "Customer_ID\n",
            "         12.0\n",
            "12347     8.0\n",
            "12348     9.0\n",
            "12359     9.0\n",
            "12370    11.0\n",
            "Name: RFM_Score, dtype: float64\n"
          ],
          "name": "stdout"
        }
      ]
    },
    {
      "cell_type": "code",
      "metadata": {
        "id": "qbx-6ahP2oA8",
        "outputId": "e53e40aa-78c1-4e7c-ac35-748fb0283ada",
        "colab": {
          "base_uri": "https://localhost:8080/",
          "height": 227
        }
      },
      "source": [
        "# Define rfm_level function\n",
        "def rfm_level(df):\n",
        "    if df['RFM_Score'] > 11:\n",
        "        return 'Top Customers : Can\\'t Loose Them'\n",
        "    elif ((df['RFM_Score'] > 9) and (df['RFM_Score'] <= 11)):\n",
        "        return 'Champions : They Drive our business'\n",
        "    elif ((df['RFM_Score'] > 8) and (df['RFM_Score'] <= 10)):\n",
        "        return 'Loyal Customers: They Drive our business'\n",
        "    elif ((df['RFM_Score'] > 6) and (df['RFM_Score'] <= 8)):\n",
        "        return 'Potential:  promotional efforts needed'\n",
        "    elif ((df['RFM_Score'] > 4) and (df['RFM_Score'] <= 6)):\n",
        "        return'Needs Attention: You may loose these cusomers soon'\n",
        "    else:\n",
        "        return 'Require Activation'\n",
        "# Create a new variable RFM_Level\n",
        "rfm['RFM_Level'] = rfm.apply(rfm_level, axis=1)\n",
        "# Print the header with top 5 rows to the console\n",
        "rfm.head()"
      ],
      "execution_count": null,
      "outputs": [
        {
          "output_type": "execute_result",
          "data": {
            "text/html": [
              "<div>\n",
              "<style scoped>\n",
              "    .dataframe tbody tr th:only-of-type {\n",
              "        vertical-align: middle;\n",
              "    }\n",
              "\n",
              "    .dataframe tbody tr th {\n",
              "        vertical-align: top;\n",
              "    }\n",
              "\n",
              "    .dataframe thead th {\n",
              "        text-align: right;\n",
              "    }\n",
              "</style>\n",
              "<table border=\"1\" class=\"dataframe\">\n",
              "  <thead>\n",
              "    <tr style=\"text-align: right;\">\n",
              "      <th></th>\n",
              "      <th>Recency</th>\n",
              "      <th>Frequency</th>\n",
              "      <th>MonetaryValue</th>\n",
              "      <th>R</th>\n",
              "      <th>F</th>\n",
              "      <th>M</th>\n",
              "      <th>RFM_Segment_Concat</th>\n",
              "      <th>RFM_Score</th>\n",
              "      <th>RFM_Level</th>\n",
              "    </tr>\n",
              "    <tr>\n",
              "      <th>Customer_ID</th>\n",
              "      <th></th>\n",
              "      <th></th>\n",
              "      <th></th>\n",
              "      <th></th>\n",
              "      <th></th>\n",
              "      <th></th>\n",
              "      <th></th>\n",
              "      <th></th>\n",
              "      <th></th>\n",
              "    </tr>\n",
              "  </thead>\n",
              "  <tbody>\n",
              "    <tr>\n",
              "      <th></th>\n",
              "      <td>1</td>\n",
              "      <td>22423</td>\n",
              "      <td>222210.88</td>\n",
              "      <td>4</td>\n",
              "      <td>4</td>\n",
              "      <td>4</td>\n",
              "      <td>444</td>\n",
              "      <td>12.0</td>\n",
              "      <td>Top Customers : Can't Loose Them</td>\n",
              "    </tr>\n",
              "    <tr>\n",
              "      <th>12347</th>\n",
              "      <td>42</td>\n",
              "      <td>31</td>\n",
              "      <td>711.79</td>\n",
              "      <td>1</td>\n",
              "      <td>3</td>\n",
              "      <td>4</td>\n",
              "      <td>134</td>\n",
              "      <td>8.0</td>\n",
              "      <td>Potential:  promotional efforts needed</td>\n",
              "    </tr>\n",
              "    <tr>\n",
              "      <th>12348</th>\n",
              "      <td>32</td>\n",
              "      <td>17</td>\n",
              "      <td>892.80</td>\n",
              "      <td>3</td>\n",
              "      <td>2</td>\n",
              "      <td>4</td>\n",
              "      <td>324</td>\n",
              "      <td>9.0</td>\n",
              "      <td>Loyal Customers: They Drive our business</td>\n",
              "    </tr>\n",
              "    <tr>\n",
              "      <th>12359</th>\n",
              "      <td>6</td>\n",
              "      <td>16</td>\n",
              "      <td>547.50</td>\n",
              "      <td>4</td>\n",
              "      <td>2</td>\n",
              "      <td>3</td>\n",
              "      <td>423</td>\n",
              "      <td>9.0</td>\n",
              "      <td>Loyal Customers: They Drive our business</td>\n",
              "    </tr>\n",
              "    <tr>\n",
              "      <th>12370</th>\n",
              "      <td>32</td>\n",
              "      <td>91</td>\n",
              "      <td>1868.02</td>\n",
              "      <td>3</td>\n",
              "      <td>4</td>\n",
              "      <td>4</td>\n",
              "      <td>344</td>\n",
              "      <td>11.0</td>\n",
              "      <td>Champions : They Drive our business</td>\n",
              "    </tr>\n",
              "  </tbody>\n",
              "</table>\n",
              "</div>"
            ],
            "text/plain": [
              "             Recency  ...                                 RFM_Level\n",
              "Customer_ID           ...                                          \n",
              "                   1  ...          Top Customers : Can't Loose Them\n",
              "12347             42  ...    Potential:  promotional efforts needed\n",
              "12348             32  ...  Loyal Customers: They Drive our business\n",
              "12359              6  ...  Loyal Customers: They Drive our business\n",
              "12370             32  ...       Champions : They Drive our business\n",
              "\n",
              "[5 rows x 9 columns]"
            ]
          },
          "metadata": {
            "tags": []
          },
          "execution_count": 81
        }
      ]
    },
    {
      "cell_type": "code",
      "metadata": {
        "scrolled": true,
        "id": "3WrcpVfP2oBa",
        "outputId": "f96d26a1-391d-4c8e-dbbb-4290a43990fb",
        "colab": {
          "base_uri": "https://localhost:8080/",
          "height": 212
        }
      },
      "source": [
        "# Calculate average values for each RFM_Level, and return a size of each segment \n",
        "rfm_level_agg = rfm.groupby('RFM_Level').agg({\n",
        "    'Recency': 'mean',\n",
        "    'Frequency': 'mean',\n",
        "    'MonetaryValue': ['mean', 'count']\n",
        "}).round(1)\n",
        "# Print the aggregated dataset\n",
        "print(rfm_level_agg)"
      ],
      "execution_count": null,
      "outputs": [
        {
          "output_type": "stream",
          "text": [
            "                                                   Recency  ... MonetaryValue\n",
            "                                                      mean  ...         count\n",
            "RFM_Level                                                   ...              \n",
            "Champions : They Drive our business                   14.1  ...           220\n",
            "Loyal Customers: They Drive our business              22.3  ...           114\n",
            "Needs Attention: You may loose these cusomers soon    32.5  ...           264\n",
            "Potential:  promotional efforts needed                27.9  ...           313\n",
            "Require Activation                                    41.3  ...           171\n",
            "Top Customers : Can't Loose Them                       5.4  ...            84\n",
            "\n",
            "[6 rows x 4 columns]\n"
          ],
          "name": "stdout"
        }
      ]
    },
    {
      "cell_type": "code",
      "metadata": {
        "id": "p1kqOxJA2oBq"
      },
      "source": [
        "rfm_level_agg.to_csv('rfm_segments.csv')"
      ],
      "execution_count": null,
      "outputs": []
    },
    {
      "cell_type": "code",
      "metadata": {
        "id": "pDA-5Qkv2oB4",
        "outputId": "f39254a3-15a8-4bca-eda3-10540422010c",
        "colab": {
          "base_uri": "https://localhost:8080/",
          "height": 595
        }
      },
      "source": [
        "import matplotlib.pyplot as plt\n",
        "rfm_level_agg.columns = ['RecencyMean','FrequencyMean','MonetaryMean', 'Count']\n",
        "#Create our plot and resize it.\n",
        "fig = plt.gcf()\n",
        "ax = fig.add_subplot()\n",
        "fig.set_size_inches(16, 9)\n",
        "squarify.plot(sizes=pd.np.sqrt(rfm_level_agg['Count']), \n",
        "              label=['Champions : They Drive our business',\n",
        "'Loyal Customers: They Drive our business',              \n",
        "'Needs Attention',  \n",
        "'Potential:  promotional efforts needed',                \n",
        "'Promising',   \n",
        "'Require Activation',                                  \n",
        "'Top Customers : Can\\'t Loose Them '   ], alpha=.6 )\n",
        "plt.title(\"RFM Segments\",fontsize=18,fontweight=\"bold\")\n",
        "plt.axis('off')\n",
        "plt.show()"
      ],
      "execution_count": null,
      "outputs": [
        {
          "output_type": "stream",
          "text": [
            "/usr/local/lib/python3.6/dist-packages/ipykernel_launcher.py:7: FutureWarning: The pandas.np module is deprecated and will be removed from pandas in a future version. Import numpy directly instead\n",
            "  import sys\n"
          ],
          "name": "stderr"
        },
        {
          "output_type": "display_data",
          "data": {
            "image/png": "[encoded data removed]",
            "text/plain": [
              "<Figure size 1152x648 with 1 Axes>"
            ]
          },
          "metadata": {
            "tags": [],
            "needs_background": "light"
          }
        }
      ]
    },
    {
      "cell_type": "code",
      "metadata": {
        "id": "wnkdmcsI2oCP",
        "outputId": "4184c3bf-1718-4182-a430-e89e9e0d58b7",
        "colab": {
          "base_uri": "https://localhost:8080/",
          "height": 257
        }
      },
      "source": [
        "rfm_level_agg"
      ],
      "execution_count": null,
      "outputs": [
        {
          "output_type": "execute_result",
          "data": {
            "text/html": [
              "<div>\n",
              "<style scoped>\n",
              "    .dataframe tbody tr th:only-of-type {\n",
              "        vertical-align: middle;\n",
              "    }\n",
              "\n",
              "    .dataframe tbody tr th {\n",
              "        vertical-align: top;\n",
              "    }\n",
              "\n",
              "    .dataframe thead th {\n",
              "        text-align: right;\n",
              "    }\n",
              "</style>\n",
              "<table border=\"1\" class=\"dataframe\">\n",
              "  <thead>\n",
              "    <tr style=\"text-align: right;\">\n",
              "      <th></th>\n",
              "      <th>RecencyMean</th>\n",
              "      <th>FrequencyMean</th>\n",
              "      <th>MonetaryMean</th>\n",
              "      <th>Count</th>\n",
              "    </tr>\n",
              "    <tr>\n",
              "      <th>RFM_Level</th>\n",
              "      <th></th>\n",
              "      <th></th>\n",
              "      <th></th>\n",
              "      <th></th>\n",
              "    </tr>\n",
              "  </thead>\n",
              "  <tbody>\n",
              "    <tr>\n",
              "      <th>Champions : They Drive our business</th>\n",
              "      <td>14.1</td>\n",
              "      <td>53.0</td>\n",
              "      <td>1089.6</td>\n",
              "      <td>220</td>\n",
              "    </tr>\n",
              "    <tr>\n",
              "      <th>Loyal Customers: They Drive our business</th>\n",
              "      <td>22.3</td>\n",
              "      <td>40.8</td>\n",
              "      <td>1053.0</td>\n",
              "      <td>114</td>\n",
              "    </tr>\n",
              "    <tr>\n",
              "      <th>Needs Attention: You may loose these cusomers soon</th>\n",
              "      <td>32.5</td>\n",
              "      <td>12.6</td>\n",
              "      <td>211.3</td>\n",
              "      <td>264</td>\n",
              "    </tr>\n",
              "    <tr>\n",
              "      <th>Potential:  promotional efforts needed</th>\n",
              "      <td>27.9</td>\n",
              "      <td>26.7</td>\n",
              "      <td>486.9</td>\n",
              "      <td>313</td>\n",
              "    </tr>\n",
              "    <tr>\n",
              "      <th>Require Activation</th>\n",
              "      <td>41.3</td>\n",
              "      <td>5.0</td>\n",
              "      <td>74.2</td>\n",
              "      <td>171</td>\n",
              "    </tr>\n",
              "    <tr>\n",
              "      <th>Top Customers : Can't Loose Them</th>\n",
              "      <td>5.4</td>\n",
              "      <td>376.6</td>\n",
              "      <td>5643.4</td>\n",
              "      <td>84</td>\n",
              "    </tr>\n",
              "  </tbody>\n",
              "</table>\n",
              "</div>"
            ],
            "text/plain": [
              "                                                    RecencyMean  ...  Count\n",
              "RFM_Level                                                        ...       \n",
              "Champions : They Drive our business                        14.1  ...    220\n",
              "Loyal Customers: They Drive our business                   22.3  ...    114\n",
              "Needs Attention: You may loose these cusomers soon         32.5  ...    264\n",
              "Potential:  promotional efforts needed                     27.9  ...    313\n",
              "Require Activation                                         41.3  ...    171\n",
              "Top Customers : Can't Loose Them                            5.4  ...     84\n",
              "\n",
              "[6 rows x 4 columns]"
            ]
          },
          "metadata": {
            "tags": []
          },
          "execution_count": 86
        }
      ]
    },
    {
      "cell_type": "code",
      "metadata": {
        "id": "Ea_9PGmt2oCi",
        "outputId": "371518c0-e008-4067-bac5-5a8df33452a2",
        "colab": {
          "base_uri": "https://localhost:8080/",
          "height": 573
        }
      },
      "source": [
        "online"
      ],
      "execution_count": null,
      "outputs": [
        {
          "output_type": "execute_result",
          "data": {
            "text/html": [
              "<div>\n",
              "<style scoped>\n",
              "    .dataframe tbody tr th:only-of-type {\n",
              "        vertical-align: middle;\n",
              "    }\n",
              "\n",
              "    .dataframe tbody tr th {\n",
              "        vertical-align: top;\n",
              "    }\n",
              "\n",
              "    .dataframe thead th {\n",
              "        text-align: right;\n",
              "    }\n",
              "</style>\n",
              "<table border=\"1\" class=\"dataframe\">\n",
              "  <thead>\n",
              "    <tr style=\"text-align: right;\">\n",
              "      <th></th>\n",
              "      <th>Invoice_Number</th>\n",
              "      <th>Product_Code</th>\n",
              "      <th>Description</th>\n",
              "      <th>Quantity</th>\n",
              "      <th>Invoice_Date</th>\n",
              "      <th>Unit_Price</th>\n",
              "      <th>Customer_ID</th>\n",
              "      <th>Country</th>\n",
              "      <th>Invoice_Value</th>\n",
              "    </tr>\n",
              "  </thead>\n",
              "  <tbody>\n",
              "    <tr>\n",
              "      <th>1</th>\n",
              "      <td>536365</td>\n",
              "      <td>85123A</td>\n",
              "      <td>WHITE HANGING HEART T-LIGHT HOLDER</td>\n",
              "      <td>6</td>\n",
              "      <td>2010-12-01 08:26:00</td>\n",
              "      <td>2.55</td>\n",
              "      <td>17850</td>\n",
              "      <td>United Kingdom</td>\n",
              "      <td>15.30</td>\n",
              "    </tr>\n",
              "    <tr>\n",
              "      <th>2</th>\n",
              "      <td>536365</td>\n",
              "      <td>71053</td>\n",
              "      <td>WHITE METAL LANTERN</td>\n",
              "      <td>6</td>\n",
              "      <td>2010-12-01 08:26:00</td>\n",
              "      <td>3.39</td>\n",
              "      <td>17850</td>\n",
              "      <td>United Kingdom</td>\n",
              "      <td>20.34</td>\n",
              "    </tr>\n",
              "    <tr>\n",
              "      <th>3</th>\n",
              "      <td>536365</td>\n",
              "      <td>84406B</td>\n",
              "      <td>CREAM CUPID HEARTS COAT HANGER</td>\n",
              "      <td>8</td>\n",
              "      <td>2010-12-01 08:26:00</td>\n",
              "      <td>2.75</td>\n",
              "      <td>17850</td>\n",
              "      <td>United Kingdom</td>\n",
              "      <td>22.00</td>\n",
              "    </tr>\n",
              "    <tr>\n",
              "      <th>4</th>\n",
              "      <td>536365</td>\n",
              "      <td>84029G</td>\n",
              "      <td>KNITTED UNION FLAG HOT WATER BOTTLE</td>\n",
              "      <td>6</td>\n",
              "      <td>2010-12-01 08:26:00</td>\n",
              "      <td>3.39</td>\n",
              "      <td>17850</td>\n",
              "      <td>United Kingdom</td>\n",
              "      <td>20.34</td>\n",
              "    </tr>\n",
              "    <tr>\n",
              "      <th>5</th>\n",
              "      <td>536365</td>\n",
              "      <td>84029E</td>\n",
              "      <td>RED WOOLLY HOTTIE WHITE HEART.</td>\n",
              "      <td>6</td>\n",
              "      <td>2010-12-01 08:26:00</td>\n",
              "      <td>3.39</td>\n",
              "      <td>17850</td>\n",
              "      <td>United Kingdom</td>\n",
              "      <td>20.34</td>\n",
              "    </tr>\n",
              "    <tr>\n",
              "      <th>...</th>\n",
              "      <td>...</td>\n",
              "      <td>...</td>\n",
              "      <td>...</td>\n",
              "      <td>...</td>\n",
              "      <td>...</td>\n",
              "      <td>...</td>\n",
              "      <td>...</td>\n",
              "      <td>...</td>\n",
              "      <td>...</td>\n",
              "    </tr>\n",
              "    <tr>\n",
              "      <th>60468</th>\n",
              "      <td>541422</td>\n",
              "      <td>21849</td>\n",
              "      <td>SILVER DIAMANTE PEN IN GIFT BOX</td>\n",
              "      <td>2</td>\n",
              "      <td>2011-01-17 17:48:00</td>\n",
              "      <td>1.63</td>\n",
              "      <td></td>\n",
              "      <td>United Kingdom</td>\n",
              "      <td>3.26</td>\n",
              "    </tr>\n",
              "    <tr>\n",
              "      <th>60469</th>\n",
              "      <td>541422</td>\n",
              "      <td>21850</td>\n",
              "      <td>BLUE  DIAMANTE PEN IN GIFT BOX</td>\n",
              "      <td>1</td>\n",
              "      <td>2011-01-17 17:48:00</td>\n",
              "      <td>1.63</td>\n",
              "      <td></td>\n",
              "      <td>United Kingdom</td>\n",
              "      <td>1.63</td>\n",
              "    </tr>\n",
              "    <tr>\n",
              "      <th>60470</th>\n",
              "      <td>541422</td>\n",
              "      <td>21851</td>\n",
              "      <td>LILAC DIAMANTE PEN IN GIFT BOX</td>\n",
              "      <td>2</td>\n",
              "      <td>2011-01-17 17:48:00</td>\n",
              "      <td>1.63</td>\n",
              "      <td></td>\n",
              "      <td>United Kingdom</td>\n",
              "      <td>3.26</td>\n",
              "    </tr>\n",
              "    <tr>\n",
              "      <th>60471</th>\n",
              "      <td>541422</td>\n",
              "      <td>21868</td>\n",
              "      <td>POTTING SHED TEA MUG</td>\n",
              "      <td>1</td>\n",
              "      <td>2011-01-17 17:48:00</td>\n",
              "      <td>3.29</td>\n",
              "      <td></td>\n",
              "      <td>United Kingdom</td>\n",
              "      <td>3.29</td>\n",
              "    </tr>\n",
              "    <tr>\n",
              "      <th>60472</th>\n",
              "      <td>541422</td>\n",
              "      <td>21874</td>\n",
              "      <td>GIN AND TONIC MUG</td>\n",
              "      <td>1</td>\n",
              "      <td>2011-01-17 17:48:00</td>\n",
              "      <td>3.29</td>\n",
              "      <td></td>\n",
              "      <td>United Kingd</td>\n",
              "      <td>3.29</td>\n",
              "    </tr>\n",
              "  </tbody>\n",
              "</table>\n",
              "<p>60472 rows × 9 columns</p>\n",
              "</div>"
            ],
            "text/plain": [
              "0     Invoice_Number Product_Code  ...         Country Invoice_Value\n",
              "1             536365       85123A  ...  United Kingdom         15.30\n",
              "2             536365        71053  ...  United Kingdom         20.34\n",
              "3             536365       84406B  ...  United Kingdom         22.00\n",
              "4             536365       84029G  ...  United Kingdom         20.34\n",
              "5             536365       84029E  ...  United Kingdom         20.34\n",
              "...              ...          ...  ...             ...           ...\n",
              "60468         541422        21849  ...  United Kingdom          3.26\n",
              "60469         541422        21850  ...  United Kingdom          1.63\n",
              "60470         541422        21851  ...  United Kingdom          3.26\n",
              "60471         541422        21868  ...  United Kingdom          3.29\n",
              "60472         541422        21874  ...    United Kingd          3.29\n",
              "\n",
              "[60472 rows x 9 columns]"
            ]
          },
          "metadata": {
            "tags": []
          },
          "execution_count": 87
        }
      ]
    },
    {
      "cell_type": "code",
      "metadata": {
        "id": "rJj4qGiK2oC3"
      },
      "source": [
        "online['Date']=pd.to_datetime(online['Invoice_Date']).dt.floor('d')\n",
        "online['Quantity']=online.Quantity.astype(float)\n",
        "big_picture=online.groupby(['Date']).agg({'Quantity':'sum','Invoice_Value':'sum'})"
      ],
      "execution_count": null,
      "outputs": []
    },
    {
      "cell_type": "code",
      "metadata": {
        "id": "rws136GB2oDN"
      },
      "source": [
        "big_picture['Visits']=online['Date'].value_counts()"
      ],
      "execution_count": null,
      "outputs": []
    },
    {
      "cell_type": "code",
      "metadata": {
        "id": "etMRSjt42oDt"
      },
      "source": [
        "big_picture=big_picture.reset_index()\n",
        "\n",
        "big_picture['Date']=pd.to_datetime(big_picture['Date'])\n"
      ],
      "execution_count": null,
      "outputs": []
    },
    {
      "cell_type": "code",
      "metadata": {
        "id": "vouU46bQ4lqE",
        "outputId": "d868ba21-3dca-40e9-83d4-296f86033255",
        "colab": {
          "base_uri": "https://localhost:8080/",
          "height": 1000
        }
      },
      "source": [
        "big_picture"
      ],
      "execution_count": null,
      "outputs": [
        {
          "output_type": "execute_result",
          "data": {
            "text/html": [
              "<div>\n",
              "<style scoped>\n",
              "    .dataframe tbody tr th:only-of-type {\n",
              "        vertical-align: middle;\n",
              "    }\n",
              "\n",
              "    .dataframe tbody tr th {\n",
              "        vertical-align: top;\n",
              "    }\n",
              "\n",
              "    .dataframe thead th {\n",
              "        text-align: right;\n",
              "    }\n",
              "</style>\n",
              "<table border=\"1\" class=\"dataframe\">\n",
              "  <thead>\n",
              "    <tr style=\"text-align: right;\">\n",
              "      <th></th>\n",
              "      <th>Date</th>\n",
              "      <th>Quantity</th>\n",
              "      <th>Invoice_Value</th>\n",
              "      <th>Visits</th>\n",
              "    </tr>\n",
              "  </thead>\n",
              "  <tbody>\n",
              "    <tr>\n",
              "      <th>0</th>\n",
              "      <td>2010-12-01</td>\n",
              "      <td>26814.0</td>\n",
              "      <td>58635.56</td>\n",
              "      <td>3108</td>\n",
              "    </tr>\n",
              "    <tr>\n",
              "      <th>1</th>\n",
              "      <td>2010-12-02</td>\n",
              "      <td>21023.0</td>\n",
              "      <td>46207.28</td>\n",
              "      <td>2109</td>\n",
              "    </tr>\n",
              "    <tr>\n",
              "      <th>2</th>\n",
              "      <td>2010-12-03</td>\n",
              "      <td>14830.0</td>\n",
              "      <td>45620.46</td>\n",
              "      <td>2202</td>\n",
              "    </tr>\n",
              "    <tr>\n",
              "      <th>3</th>\n",
              "      <td>2010-12-05</td>\n",
              "      <td>16395.0</td>\n",
              "      <td>31383.95</td>\n",
              "      <td>2725</td>\n",
              "    </tr>\n",
              "    <tr>\n",
              "      <th>4</th>\n",
              "      <td>2010-12-06</td>\n",
              "      <td>21419.0</td>\n",
              "      <td>53860.18</td>\n",
              "      <td>3878</td>\n",
              "    </tr>\n",
              "    <tr>\n",
              "      <th>5</th>\n",
              "      <td>2010-12-07</td>\n",
              "      <td>24995.0</td>\n",
              "      <td>45059.05</td>\n",
              "      <td>2963</td>\n",
              "    </tr>\n",
              "    <tr>\n",
              "      <th>6</th>\n",
              "      <td>2010-12-08</td>\n",
              "      <td>22741.0</td>\n",
              "      <td>44189.84</td>\n",
              "      <td>2647</td>\n",
              "    </tr>\n",
              "    <tr>\n",
              "      <th>7</th>\n",
              "      <td>2010-12-09</td>\n",
              "      <td>18431.0</td>\n",
              "      <td>52532.13</td>\n",
              "      <td>2891</td>\n",
              "    </tr>\n",
              "    <tr>\n",
              "      <th>8</th>\n",
              "      <td>2010-12-10</td>\n",
              "      <td>20297.0</td>\n",
              "      <td>57404.91</td>\n",
              "      <td>2758</td>\n",
              "    </tr>\n",
              "    <tr>\n",
              "      <th>9</th>\n",
              "      <td>2010-12-12</td>\n",
              "      <td>10565.0</td>\n",
              "      <td>17240.92</td>\n",
              "      <td>1451</td>\n",
              "    </tr>\n",
              "    <tr>\n",
              "      <th>10</th>\n",
              "      <td>2010-12-13</td>\n",
              "      <td>17623.0</td>\n",
              "      <td>35379.34</td>\n",
              "      <td>2283</td>\n",
              "    </tr>\n",
              "    <tr>\n",
              "      <th>11</th>\n",
              "      <td>2010-12-14</td>\n",
              "      <td>20098.0</td>\n",
              "      <td>42843.29</td>\n",
              "      <td>2087</td>\n",
              "    </tr>\n",
              "    <tr>\n",
              "      <th>12</th>\n",
              "      <td>2010-12-15</td>\n",
              "      <td>18229.0</td>\n",
              "      <td>29443.69</td>\n",
              "      <td>1349</td>\n",
              "    </tr>\n",
              "    <tr>\n",
              "      <th>13</th>\n",
              "      <td>2010-12-16</td>\n",
              "      <td>29632.0</td>\n",
              "      <td>48334.35</td>\n",
              "      <td>1790</td>\n",
              "    </tr>\n",
              "    <tr>\n",
              "      <th>14</th>\n",
              "      <td>2010-12-17</td>\n",
              "      <td>16069.0</td>\n",
              "      <td>43534.19</td>\n",
              "      <td>3115</td>\n",
              "    </tr>\n",
              "    <tr>\n",
              "      <th>15</th>\n",
              "      <td>2010-12-19</td>\n",
              "      <td>3795.0</td>\n",
              "      <td>7517.31</td>\n",
              "      <td>522</td>\n",
              "    </tr>\n",
              "    <tr>\n",
              "      <th>16</th>\n",
              "      <td>2010-12-20</td>\n",
              "      <td>14965.0</td>\n",
              "      <td>24741.75</td>\n",
              "      <td>1763</td>\n",
              "    </tr>\n",
              "    <tr>\n",
              "      <th>17</th>\n",
              "      <td>2010-12-21</td>\n",
              "      <td>15467.0</td>\n",
              "      <td>47097.94</td>\n",
              "      <td>1586</td>\n",
              "    </tr>\n",
              "    <tr>\n",
              "      <th>18</th>\n",
              "      <td>2010-12-22</td>\n",
              "      <td>3192.0</td>\n",
              "      <td>6134.57</td>\n",
              "      <td>291</td>\n",
              "    </tr>\n",
              "    <tr>\n",
              "      <th>19</th>\n",
              "      <td>2010-12-23</td>\n",
              "      <td>5648.0</td>\n",
              "      <td>11796.31</td>\n",
              "      <td>963</td>\n",
              "    </tr>\n",
              "    <tr>\n",
              "      <th>20</th>\n",
              "      <td>2011-01-04</td>\n",
              "      <td>7939.0</td>\n",
              "      <td>14950.48</td>\n",
              "      <td>1184</td>\n",
              "    </tr>\n",
              "    <tr>\n",
              "      <th>21</th>\n",
              "      <td>2011-01-05</td>\n",
              "      <td>18435.0</td>\n",
              "      <td>-1566.23</td>\n",
              "      <td>1743</td>\n",
              "    </tr>\n",
              "    <tr>\n",
              "      <th>22</th>\n",
              "      <td>2011-01-06</td>\n",
              "      <td>22461.0</td>\n",
              "      <td>37392.74</td>\n",
              "      <td>1832</td>\n",
              "    </tr>\n",
              "    <tr>\n",
              "      <th>23</th>\n",
              "      <td>2011-01-07</td>\n",
              "      <td>16475.0</td>\n",
              "      <td>27233.14</td>\n",
              "      <td>1794</td>\n",
              "    </tr>\n",
              "    <tr>\n",
              "      <th>24</th>\n",
              "      <td>2011-01-09</td>\n",
              "      <td>8181.0</td>\n",
              "      <td>15710.80</td>\n",
              "      <td>1117</td>\n",
              "    </tr>\n",
              "    <tr>\n",
              "      <th>25</th>\n",
              "      <td>2011-01-10</td>\n",
              "      <td>9014.0</td>\n",
              "      <td>24191.64</td>\n",
              "      <td>1976</td>\n",
              "    </tr>\n",
              "    <tr>\n",
              "      <th>26</th>\n",
              "      <td>2011-01-11</td>\n",
              "      <td>29093.0</td>\n",
              "      <td>67817.13</td>\n",
              "      <td>1454</td>\n",
              "    </tr>\n",
              "    <tr>\n",
              "      <th>27</th>\n",
              "      <td>2011-01-12</td>\n",
              "      <td>10133.0</td>\n",
              "      <td>23958.78</td>\n",
              "      <td>1809</td>\n",
              "    </tr>\n",
              "    <tr>\n",
              "      <th>28</th>\n",
              "      <td>2011-01-13</td>\n",
              "      <td>10114.0</td>\n",
              "      <td>20533.54</td>\n",
              "      <td>1445</td>\n",
              "    </tr>\n",
              "    <tr>\n",
              "      <th>29</th>\n",
              "      <td>2011-01-14</td>\n",
              "      <td>23091.0</td>\n",
              "      <td>47377.26</td>\n",
              "      <td>1510</td>\n",
              "    </tr>\n",
              "    <tr>\n",
              "      <th>30</th>\n",
              "      <td>2011-01-16</td>\n",
              "      <td>4181.0</td>\n",
              "      <td>7116.61</td>\n",
              "      <td>646</td>\n",
              "    </tr>\n",
              "    <tr>\n",
              "      <th>31</th>\n",
              "      <td>2011-01-17</td>\n",
              "      <td>10398.0</td>\n",
              "      <td>21006.79</td>\n",
              "      <td>1481</td>\n",
              "    </tr>\n",
              "  </tbody>\n",
              "</table>\n",
              "</div>"
            ],
            "text/plain": [
              "         Date  Quantity  Invoice_Value  Visits\n",
              "0  2010-12-01   26814.0       58635.56    3108\n",
              "1  2010-12-02   21023.0       46207.28    2109\n",
              "2  2010-12-03   14830.0       45620.46    2202\n",
              "3  2010-12-05   16395.0       31383.95    2725\n",
              "4  2010-12-06   21419.0       53860.18    3878\n",
              "5  2010-12-07   24995.0       45059.05    2963\n",
              "6  2010-12-08   22741.0       44189.84    2647\n",
              "7  2010-12-09   18431.0       52532.13    2891\n",
              "8  2010-12-10   20297.0       57404.91    2758\n",
              "9  2010-12-12   10565.0       17240.92    1451\n",
              "10 2010-12-13   17623.0       35379.34    2283\n",
              "11 2010-12-14   20098.0       42843.29    2087\n",
              "12 2010-12-15   18229.0       29443.69    1349\n",
              "13 2010-12-16   29632.0       48334.35    1790\n",
              "14 2010-12-17   16069.0       43534.19    3115\n",
              "15 2010-12-19    3795.0        7517.31     522\n",
              "16 2010-12-20   14965.0       24741.75    1763\n",
              "17 2010-12-21   15467.0       47097.94    1586\n",
              "18 2010-12-22    3192.0        6134.57     291\n",
              "19 2010-12-23    5648.0       11796.31     963\n",
              "20 2011-01-04    7939.0       14950.48    1184\n",
              "21 2011-01-05   18435.0       -1566.23    1743\n",
              "22 2011-01-06   22461.0       37392.74    1832\n",
              "23 2011-01-07   16475.0       27233.14    1794\n",
              "24 2011-01-09    8181.0       15710.80    1117\n",
              "25 2011-01-10    9014.0       24191.64    1976\n",
              "26 2011-01-11   29093.0       67817.13    1454\n",
              "27 2011-01-12   10133.0       23958.78    1809\n",
              "28 2011-01-13   10114.0       20533.54    1445\n",
              "29 2011-01-14   23091.0       47377.26    1510\n",
              "30 2011-01-16    4181.0        7116.61     646\n",
              "31 2011-01-17   10398.0       21006.79    1481"
            ]
          },
          "metadata": {
            "tags": []
          },
          "execution_count": 125
        }
      ]
    },
    {
      "cell_type": "code",
      "metadata": {
        "scrolled": true,
        "id": "0ChhG9fq2oD1",
        "outputId": "67476418-ca80-40a0-e708-01fc07761c7b",
        "colab": {
          "base_uri": "https://localhost:8080/",
          "height": 364
        }
      },
      "source": [
        "\n",
        "%matplotlib inline\n",
        "import matplotlib.pyplot as plt\n",
        "from matplotlib.dates import DateFormatter\n",
        "import matplotlib.dates as mdates\n",
        "import matplotlib.ticker as ticker\n",
        "\n",
        "plt.figure(figsize=(22,7))\n",
        "big_picture=big_picture.sort_values(by='Date')\n",
        "\n",
        "date_form = DateFormatter(\"%m-%Y\")\n",
        "ax.grid(True)\n",
        "ax.xaxis.set_major_formatter(date_form)\n",
        "\n",
        "ax = sns.lineplot(x=\"Date\", y=\"Quantity\", data=big_picture,marker='8',label='Daily Quantity Sold')\n",
        "ax.xaxis.set_major_locator(mdates.WeekdayLocator())\n",
        "plt.legend(loc=1,bbox_to_anchor=(0.7,1))\n",
        "#ax2=ax.twinx()\n",
        "#ax2=sns.lineplot(x=\"Date\", y=\"Invoice Value\", data=big_picture,color='red',label='Invoice Value')\n",
        "#ax2.xaxis.set_major_locator(mdates.MonthLocator())\n",
        "\n",
        "\n",
        "ax3=ax.twinx()\n",
        "ax3=sns.lineplot(x=\"Date\", y=\"Visits\", data=big_picture,color='red',label='Daily Footfall',marker='8')\n",
        "ax3.xaxis.set_major_locator(mdates.WeekdayLocator())\n",
        "plt.legend(loc=2,bbox_to_anchor=(0.5,1))\n",
        "plt.show()\n",
        "\n",
        "\n",
        "\n",
        "\n"
      ],
      "execution_count": null,
      "outputs": [
        {
          "output_type": "display_data",
          "data": {
            "image/png": "[encoded data removed]",
            "text/plain": [
              "<Figure size 1584x504 with 2 Axes>"
            ]
          },
          "metadata": {
            "tags": [],
            "needs_background": "light"
          }
        }
      ]
    },
    {
      "cell_type": "code",
      "metadata": {
        "id": "GFzxSB4c2oEG"
      },
      "source": [
        "big_picture['weekday']=big_picture.Date.dt.day_name()"
      ],
      "execution_count": null,
      "outputs": []
    },
    {
      "cell_type": "code",
      "metadata": {
        "id": "ZwbBd3Ux2oET",
        "outputId": "79e128de-9436-4fae-e300-fd795e1abab4",
        "colab": {
          "base_uri": "https://localhost:8080/",
          "height": 595
        }
      },
      "source": [
        "\n",
        "%matplotlib inline\n",
        "import matplotlib.pyplot as plt\n",
        "from matplotlib.dates import DateFormatter\n",
        "import matplotlib.dates as mdates\n",
        "import matplotlib.ticker as ticker\n",
        "\n",
        "\n",
        "plt.figure(figsize=(15,5))\n",
        "big_picture=big_picture.sort_values(by='Date')\n",
        "\n",
        "date_form = DateFormatter(\"%m-%Y\")\n",
        "ax.grid(True)\n",
        "ax.xaxis.set_major_formatter(date_form)\n",
        "\n",
        "ax = sns.lineplot(x=\"Date\", y=\"Invoice_Value\", data=big_picture,marker='8',label='Daily Tunover')\n",
        "ax.xaxis.set_major_locator(mdates.WeekdayLocator())\n",
        "plt.legend(loc=1,bbox_to_anchor=(0.8,1))\n",
        "#ax2=ax.twinx()\n",
        "#ax2=sns.lineplot(x=\"Date\", y=\"Invoice Value\", data=big_picture,color='red',label='Invoice Value')\n",
        "#ax2.xaxis.set_major_locator(mdates.MonthLocator())\n",
        "\n",
        "\n",
        "ax3=ax.twinx()\n",
        "ax3=sns.lineplot(x=\"Date\", y=\"Visits\", data=big_picture,color='red',label='Footfall',marker='8')\n",
        "ax3.xaxis.set_major_locator(mdates.WeekdayLocator())\n",
        "plt.legend(loc=2,bbox_to_anchor=(0.5,1))\n",
        "plt.show()\n",
        "\n",
        "\n",
        "\n",
        "ax3=ax.twiny()\n",
        "ax3=sns.lineplot(x=\"weekday\", y=\"Visits\", data=big_picture,color='black',label='Footfall',marker='8',sort= False)\n",
        "#ax3.set_xticklabels([\"Sunday\",\"Monday\",\"Tuesday\",\"Wednesday\",\"Thursday\",\"Friday\"])\n",
        "#ax3.xaxis.set_major_locator(mdates.WeekdayLocator())\n",
        "plt.legend(loc=2,bbox_to_anchor=(0.5,1))\n",
        "plt.show()\n",
        "\n",
        "\n",
        "\n",
        "\n"
      ],
      "execution_count": null,
      "outputs": [
        {
          "output_type": "display_data",
          "data": {
            "image/png": "[encoded data removed]",
            "text/plain": [
              "<Figure size 1080x360 with 2 Axes>"
            ]
          },
          "metadata": {
            "tags": [],
            "needs_background": "light"
          }
        },
        {
          "output_type": "display_data",
          "data": {
            "image/png": "[encoded data removed]",
            "text/plain": [
              "<Figure size 432x288 with 1 Axes>"
            ]
          },
          "metadata": {
            "tags": [],
            "needs_background": "light"
          }
        }
      ]
    },
    {
      "cell_type": "code",
      "metadata": {
        "id": "UFUIyY9Y2oEd",
        "outputId": "26880bb2-5fce-490f-d145-ad2c69cdfe80",
        "colab": {
          "base_uri": "https://localhost:8080/",
          "height": 280
        }
      },
      "source": [
        "ax3=ax.twiny()\n",
        "ax3=sns.lineplot(x=\"weekday\", y=\"Invoice_Value\", data=big_picture,color='black',label='Sale',marker='8',sort=False)\n",
        "#ax3.xaxis.set_major_locator(mdates.WeekdayLocator())\n",
        "plt.legend(loc=2,bbox_to_anchor=(0.5,1))\n",
        "plt.show()"
      ],
      "execution_count": null,
      "outputs": [
        {
          "output_type": "display_data",
          "data": {
            "image/png": "[encoded data removed]",
            "text/plain": [
              "<Figure size 432x288 with 1 Axes>"
            ]
          },
          "metadata": {
            "tags": [],
            "needs_background": "light"
          }
        }
      ]
    },
    {
      "cell_type": "code",
      "metadata": {
        "id": "bckunOwlKjPh",
        "outputId": "1748ff09-f9ed-418d-9dae-ef04cd815419",
        "colab": {
          "base_uri": "https://localhost:8080/",
          "height": 436
        }
      },
      "source": [
        "data_process"
      ],
      "execution_count": null,
      "outputs": [
        {
          "output_type": "execute_result",
          "data": {
            "text/html": [
              "<div>\n",
              "<style scoped>\n",
              "    .dataframe tbody tr th:only-of-type {\n",
              "        vertical-align: middle;\n",
              "    }\n",
              "\n",
              "    .dataframe tbody tr th {\n",
              "        vertical-align: top;\n",
              "    }\n",
              "\n",
              "    .dataframe thead th {\n",
              "        text-align: right;\n",
              "    }\n",
              "</style>\n",
              "<table border=\"1\" class=\"dataframe\">\n",
              "  <thead>\n",
              "    <tr style=\"text-align: right;\">\n",
              "      <th></th>\n",
              "      <th>Recency</th>\n",
              "      <th>Frequency</th>\n",
              "      <th>MonetaryValue</th>\n",
              "      <th>R</th>\n",
              "      <th>F</th>\n",
              "      <th>M</th>\n",
              "      <th>RFM_Segment_Concat</th>\n",
              "      <th>RFM_Score</th>\n",
              "      <th>RFM_Level</th>\n",
              "    </tr>\n",
              "    <tr>\n",
              "      <th>Customer_ID</th>\n",
              "      <th></th>\n",
              "      <th></th>\n",
              "      <th></th>\n",
              "      <th></th>\n",
              "      <th></th>\n",
              "      <th></th>\n",
              "      <th></th>\n",
              "      <th></th>\n",
              "      <th></th>\n",
              "    </tr>\n",
              "  </thead>\n",
              "  <tbody>\n",
              "    <tr>\n",
              "      <th></th>\n",
              "      <td>1</td>\n",
              "      <td>22423</td>\n",
              "      <td>222210.88</td>\n",
              "      <td>4</td>\n",
              "      <td>4</td>\n",
              "      <td>4</td>\n",
              "      <td>444</td>\n",
              "      <td>12.0</td>\n",
              "      <td>Top Customers : Can't Loose Them</td>\n",
              "    </tr>\n",
              "    <tr>\n",
              "      <th>12347</th>\n",
              "      <td>42</td>\n",
              "      <td>31</td>\n",
              "      <td>711.79</td>\n",
              "      <td>1</td>\n",
              "      <td>3</td>\n",
              "      <td>4</td>\n",
              "      <td>134</td>\n",
              "      <td>8.0</td>\n",
              "      <td>Potential:  promotional efforts needed</td>\n",
              "    </tr>\n",
              "    <tr>\n",
              "      <th>12348</th>\n",
              "      <td>32</td>\n",
              "      <td>17</td>\n",
              "      <td>892.80</td>\n",
              "      <td>3</td>\n",
              "      <td>2</td>\n",
              "      <td>4</td>\n",
              "      <td>324</td>\n",
              "      <td>9.0</td>\n",
              "      <td>Loyal Customers: They Drive our business</td>\n",
              "    </tr>\n",
              "    <tr>\n",
              "      <th>12359</th>\n",
              "      <td>6</td>\n",
              "      <td>16</td>\n",
              "      <td>547.50</td>\n",
              "      <td>4</td>\n",
              "      <td>2</td>\n",
              "      <td>3</td>\n",
              "      <td>423</td>\n",
              "      <td>9.0</td>\n",
              "      <td>Loyal Customers: They Drive our business</td>\n",
              "    </tr>\n",
              "    <tr>\n",
              "      <th>12370</th>\n",
              "      <td>32</td>\n",
              "      <td>91</td>\n",
              "      <td>1868.02</td>\n",
              "      <td>3</td>\n",
              "      <td>4</td>\n",
              "      <td>4</td>\n",
              "      <td>344</td>\n",
              "      <td>11.0</td>\n",
              "      <td>Champions : They Drive our business</td>\n",
              "    </tr>\n",
              "    <tr>\n",
              "      <th>...</th>\n",
              "      <td>...</td>\n",
              "      <td>...</td>\n",
              "      <td>...</td>\n",
              "      <td>...</td>\n",
              "      <td>...</td>\n",
              "      <td>...</td>\n",
              "      <td>...</td>\n",
              "      <td>...</td>\n",
              "      <td>...</td>\n",
              "    </tr>\n",
              "    <tr>\n",
              "      <th>18256</th>\n",
              "      <td>29</td>\n",
              "      <td>4</td>\n",
              "      <td>-50.10</td>\n",
              "      <td>3</td>\n",
              "      <td>1</td>\n",
              "      <td>1</td>\n",
              "      <td>311</td>\n",
              "      <td>5.0</td>\n",
              "      <td>Needs Attention: You may loose these cusomers ...</td>\n",
              "    </tr>\n",
              "    <tr>\n",
              "      <th>18259</th>\n",
              "      <td>41</td>\n",
              "      <td>7</td>\n",
              "      <td>376.30</td>\n",
              "      <td>1</td>\n",
              "      <td>1</td>\n",
              "      <td>3</td>\n",
              "      <td>113</td>\n",
              "      <td>5.0</td>\n",
              "      <td>Needs Attention: You may loose these cusomers ...</td>\n",
              "    </tr>\n",
              "    <tr>\n",
              "      <th>18260</th>\n",
              "      <td>9</td>\n",
              "      <td>37</td>\n",
              "      <td>787.77</td>\n",
              "      <td>4</td>\n",
              "      <td>3</td>\n",
              "      <td>4</td>\n",
              "      <td>434</td>\n",
              "      <td>11.0</td>\n",
              "      <td>Champions : They Drive our business</td>\n",
              "    </tr>\n",
              "    <tr>\n",
              "      <th>18269</th>\n",
              "      <td>33</td>\n",
              "      <td>8</td>\n",
              "      <td>138.90</td>\n",
              "      <td>2</td>\n",
              "      <td>1</td>\n",
              "      <td>1</td>\n",
              "      <td>211</td>\n",
              "      <td>4.0</td>\n",
              "      <td>Require Activation</td>\n",
              "    </tr>\n",
              "    <tr>\n",
              "      <th>18283</th>\n",
              "      <td>12</td>\n",
              "      <td>57</td>\n",
              "      <td>108.45</td>\n",
              "      <td>3</td>\n",
              "      <td>4</td>\n",
              "      <td>1</td>\n",
              "      <td>341</td>\n",
              "      <td>8.0</td>\n",
              "      <td>Potential:  promotional efforts needed</td>\n",
              "    </tr>\n",
              "  </tbody>\n",
              "</table>\n",
              "<p>1166 rows × 9 columns</p>\n",
              "</div>"
            ],
            "text/plain": [
              "             Recency  ...                                          RFM_Level\n",
              "Customer_ID           ...                                                   \n",
              "                   1  ...                   Top Customers : Can't Loose Them\n",
              "12347             42  ...             Potential:  promotional efforts needed\n",
              "12348             32  ...           Loyal Customers: They Drive our business\n",
              "12359              6  ...           Loyal Customers: They Drive our business\n",
              "12370             32  ...                Champions : They Drive our business\n",
              "...              ...  ...                                                ...\n",
              "18256             29  ...  Needs Attention: You may loose these cusomers ...\n",
              "18259             41  ...  Needs Attention: You may loose these cusomers ...\n",
              "18260              9  ...                Champions : They Drive our business\n",
              "18269             33  ...                                 Require Activation\n",
              "18283             12  ...             Potential:  promotional efforts needed\n",
              "\n",
              "[1166 rows x 9 columns]"
            ]
          },
          "metadata": {
            "tags": []
          },
          "execution_count": 141
        }
      ]
    },
    {
      "cell_type": "code",
      "metadata": {
        "id": "sjTieaB-FA_n",
        "outputId": "cd8f672b-929f-4002-88a5-cea352f9d668",
        "colab": {
          "base_uri": "https://localhost:8080/",
          "height": 573
        }
      },
      "source": [
        "online"
      ],
      "execution_count": null,
      "outputs": [
        {
          "output_type": "execute_result",
          "data": {
            "text/html": [
              "<div>\n",
              "<style scoped>\n",
              "    .dataframe tbody tr th:only-of-type {\n",
              "        vertical-align: middle;\n",
              "    }\n",
              "\n",
              "    .dataframe tbody tr th {\n",
              "        vertical-align: top;\n",
              "    }\n",
              "\n",
              "    .dataframe thead th {\n",
              "        text-align: right;\n",
              "    }\n",
              "</style>\n",
              "<table border=\"1\" class=\"dataframe\">\n",
              "  <thead>\n",
              "    <tr style=\"text-align: right;\">\n",
              "      <th></th>\n",
              "      <th>Invoice_Number</th>\n",
              "      <th>Product_Code</th>\n",
              "      <th>Description</th>\n",
              "      <th>Quantity</th>\n",
              "      <th>Invoice_Date</th>\n",
              "      <th>Unit_Price</th>\n",
              "      <th>Customer_ID</th>\n",
              "      <th>Country</th>\n",
              "      <th>Invoice_Value</th>\n",
              "      <th>Date</th>\n",
              "    </tr>\n",
              "  </thead>\n",
              "  <tbody>\n",
              "    <tr>\n",
              "      <th>1</th>\n",
              "      <td>536365</td>\n",
              "      <td>85123A</td>\n",
              "      <td>WHITE HANGING HEART T-LIGHT HOLDER</td>\n",
              "      <td>6.0</td>\n",
              "      <td>2010-12-01 08:26:00</td>\n",
              "      <td>2.55</td>\n",
              "      <td>17850</td>\n",
              "      <td>United Kingdom</td>\n",
              "      <td>15.30</td>\n",
              "      <td>2010-12-01</td>\n",
              "    </tr>\n",
              "    <tr>\n",
              "      <th>2</th>\n",
              "      <td>536365</td>\n",
              "      <td>71053</td>\n",
              "      <td>WHITE METAL LANTERN</td>\n",
              "      <td>6.0</td>\n",
              "      <td>2010-12-01 08:26:00</td>\n",
              "      <td>3.39</td>\n",
              "      <td>17850</td>\n",
              "      <td>United Kingdom</td>\n",
              "      <td>20.34</td>\n",
              "      <td>2010-12-01</td>\n",
              "    </tr>\n",
              "    <tr>\n",
              "      <th>3</th>\n",
              "      <td>536365</td>\n",
              "      <td>84406B</td>\n",
              "      <td>CREAM CUPID HEARTS COAT HANGER</td>\n",
              "      <td>8.0</td>\n",
              "      <td>2010-12-01 08:26:00</td>\n",
              "      <td>2.75</td>\n",
              "      <td>17850</td>\n",
              "      <td>United Kingdom</td>\n",
              "      <td>22.00</td>\n",
              "      <td>2010-12-01</td>\n",
              "    </tr>\n",
              "    <tr>\n",
              "      <th>4</th>\n",
              "      <td>536365</td>\n",
              "      <td>84029G</td>\n",
              "      <td>KNITTED UNION FLAG HOT WATER BOTTLE</td>\n",
              "      <td>6.0</td>\n",
              "      <td>2010-12-01 08:26:00</td>\n",
              "      <td>3.39</td>\n",
              "      <td>17850</td>\n",
              "      <td>United Kingdom</td>\n",
              "      <td>20.34</td>\n",
              "      <td>2010-12-01</td>\n",
              "    </tr>\n",
              "    <tr>\n",
              "      <th>5</th>\n",
              "      <td>536365</td>\n",
              "      <td>84029E</td>\n",
              "      <td>RED WOOLLY HOTTIE WHITE HEART.</td>\n",
              "      <td>6.0</td>\n",
              "      <td>2010-12-01 08:26:00</td>\n",
              "      <td>3.39</td>\n",
              "      <td>17850</td>\n",
              "      <td>United Kingdom</td>\n",
              "      <td>20.34</td>\n",
              "      <td>2010-12-01</td>\n",
              "    </tr>\n",
              "    <tr>\n",
              "      <th>...</th>\n",
              "      <td>...</td>\n",
              "      <td>...</td>\n",
              "      <td>...</td>\n",
              "      <td>...</td>\n",
              "      <td>...</td>\n",
              "      <td>...</td>\n",
              "      <td>...</td>\n",
              "      <td>...</td>\n",
              "      <td>...</td>\n",
              "      <td>...</td>\n",
              "    </tr>\n",
              "    <tr>\n",
              "      <th>60468</th>\n",
              "      <td>541422</td>\n",
              "      <td>21849</td>\n",
              "      <td>SILVER DIAMANTE PEN IN GIFT BOX</td>\n",
              "      <td>2.0</td>\n",
              "      <td>2011-01-17 17:48:00</td>\n",
              "      <td>1.63</td>\n",
              "      <td></td>\n",
              "      <td>United Kingdom</td>\n",
              "      <td>3.26</td>\n",
              "      <td>2011-01-17</td>\n",
              "    </tr>\n",
              "    <tr>\n",
              "      <th>60469</th>\n",
              "      <td>541422</td>\n",
              "      <td>21850</td>\n",
              "      <td>BLUE  DIAMANTE PEN IN GIFT BOX</td>\n",
              "      <td>1.0</td>\n",
              "      <td>2011-01-17 17:48:00</td>\n",
              "      <td>1.63</td>\n",
              "      <td></td>\n",
              "      <td>United Kingdom</td>\n",
              "      <td>1.63</td>\n",
              "      <td>2011-01-17</td>\n",
              "    </tr>\n",
              "    <tr>\n",
              "      <th>60470</th>\n",
              "      <td>541422</td>\n",
              "      <td>21851</td>\n",
              "      <td>LILAC DIAMANTE PEN IN GIFT BOX</td>\n",
              "      <td>2.0</td>\n",
              "      <td>2011-01-17 17:48:00</td>\n",
              "      <td>1.63</td>\n",
              "      <td></td>\n",
              "      <td>United Kingdom</td>\n",
              "      <td>3.26</td>\n",
              "      <td>2011-01-17</td>\n",
              "    </tr>\n",
              "    <tr>\n",
              "      <th>60471</th>\n",
              "      <td>541422</td>\n",
              "      <td>21868</td>\n",
              "      <td>POTTING SHED TEA MUG</td>\n",
              "      <td>1.0</td>\n",
              "      <td>2011-01-17 17:48:00</td>\n",
              "      <td>3.29</td>\n",
              "      <td></td>\n",
              "      <td>United Kingdom</td>\n",
              "      <td>3.29</td>\n",
              "      <td>2011-01-17</td>\n",
              "    </tr>\n",
              "    <tr>\n",
              "      <th>60472</th>\n",
              "      <td>541422</td>\n",
              "      <td>21874</td>\n",
              "      <td>GIN AND TONIC MUG</td>\n",
              "      <td>1.0</td>\n",
              "      <td>2011-01-17 17:48:00</td>\n",
              "      <td>3.29</td>\n",
              "      <td></td>\n",
              "      <td>United Kingd</td>\n",
              "      <td>3.29</td>\n",
              "      <td>2011-01-17</td>\n",
              "    </tr>\n",
              "  </tbody>\n",
              "</table>\n",
              "<p>60472 rows × 10 columns</p>\n",
              "</div>"
            ],
            "text/plain": [
              "0     Invoice_Number Product_Code  ... Invoice_Value       Date\n",
              "1             536365       85123A  ...         15.30 2010-12-01\n",
              "2             536365        71053  ...         20.34 2010-12-01\n",
              "3             536365       84406B  ...         22.00 2010-12-01\n",
              "4             536365       84029G  ...         20.34 2010-12-01\n",
              "5             536365       84029E  ...         20.34 2010-12-01\n",
              "...              ...          ...  ...           ...        ...\n",
              "60468         541422        21849  ...          3.26 2011-01-17\n",
              "60469         541422        21850  ...          1.63 2011-01-17\n",
              "60470         541422        21851  ...          3.26 2011-01-17\n",
              "60471         541422        21868  ...          3.29 2011-01-17\n",
              "60472         541422        21874  ...          3.29 2011-01-17\n",
              "\n",
              "[60472 rows x 10 columns]"
            ]
          },
          "metadata": {
            "tags": []
          },
          "execution_count": 142
        }
      ]
    },
    {
      "cell_type": "code",
      "metadata": {
        "id": "eSN33UgA7IlX"
      },
      "source": [
        "online=online.sort_values(by=['Date'])"
      ],
      "execution_count": null,
      "outputs": []
    },
    {
      "cell_type": "code",
      "metadata": {
        "id": "gzXFzZlU9KC5"
      },
      "source": [
        "online.reset_index(inplace=True,drop=True)"
      ],
      "execution_count": null,
      "outputs": []
    },
    {
      "cell_type": "code",
      "metadata": {
        "id": "57kpwjRy77tF",
        "outputId": "de1bcbcf-78c4-4efd-f698-4491299e5f8a",
        "colab": {
          "base_uri": "https://localhost:8080/",
          "height": 72
        }
      },
      "source": [
        "online.fillna(0,inplace=True)\n",
        "online['Date'].replace(0,pd.np.nan,inplace=True)"
      ],
      "execution_count": null,
      "outputs": [
        {
          "output_type": "stream",
          "text": [
            "/usr/local/lib/python3.6/dist-packages/ipykernel_launcher.py:2: FutureWarning: The pandas.np module is deprecated and will be removed from pandas in a future version. Import numpy directly instead\n",
            "  \n"
          ],
          "name": "stderr"
        }
      ]
    },
    {
      "cell_type": "code",
      "metadata": {
        "id": "mxZf8yG93xJS"
      },
      "source": [
        "\n",
        "data_p = online.groupby(['Customer_ID']).agg({\n",
        "#          'InvoiceDate': lambda x: (x.nlargest(1,keep='first') - x.nlargest(2,keep='first').iloc[-1]).max().days,\n",
        "          'Quantity': 'cumsum',\n",
        "          'Invoice_Value': 'cumsum'})"
      ],
      "execution_count": null,
      "outputs": []
    },
    {
      "cell_type": "code",
      "metadata": {
        "id": "HgaoX_Ewhtr4"
      },
      "source": [
        "online['Date'].fillna(method='ffill', inplace=True)"
      ],
      "execution_count": null,
      "outputs": []
    },
    {
      "cell_type": "code",
      "metadata": {
        "id": "Hz3HWkrF1ZuQ"
      },
      "source": [
        "ls = online.groupby('Customer_ID')['Date'].diff()"
      ],
      "execution_count": null,
      "outputs": []
    },
    {
      "cell_type": "code",
      "metadata": {
        "id": "a2Ux9ZDAReR1"
      },
      "source": [
        "ls=pd.to_numeric(ls.dt.days, downcast='integer')"
      ],
      "execution_count": null,
      "outputs": []
    },
    {
      "cell_type": "code",
      "metadata": {
        "id": "WY4uCHHDR5uh",
        "outputId": "a67c3edc-ebbc-4c24-c5bd-559c2731e60a",
        "colab": {
          "base_uri": "https://localhost:8080/",
          "height": 72
        }
      },
      "source": [
        "ls.fillna(pd.np.inf,inplace=True)"
      ],
      "execution_count": null,
      "outputs": [
        {
          "output_type": "stream",
          "text": [
            "/usr/local/lib/python3.6/dist-packages/ipykernel_launcher.py:1: FutureWarning: The pandas.np module is deprecated and will be removed from pandas in a future version. Import numpy directly instead\n",
            "  \"\"\"Entry point for launching an IPython kernel.\n"
          ],
          "name": "stderr"
        }
      ]
    },
    {
      "cell_type": "code",
      "metadata": {
        "id": "2zNIv2Ie5SQ1"
      },
      "source": [
        "data_p.rename({'Quantity':'Cum_Quality','Invoice_Value':'Cum_Invoice'},inplace=True,axis=1)\n",
        "data=pd.merge(online,data_p,left_index=True,right_index=True)"
      ],
      "execution_count": null,
      "outputs": []
    },
    {
      "cell_type": "code",
      "metadata": {
        "id": "xpryZzHCRr6P"
      },
      "source": [
        "data['time_last_seen']=ls"
      ],
      "execution_count": null,
      "outputs": []
    },
    {
      "cell_type": "code",
      "metadata": {
        "id": "lPdDgF4eOs0P"
      },
      "source": [
        "data['#visits']=data.groupby('Customer_ID').agg({'Customer_ID':'cumcount'})"
      ],
      "execution_count": null,
      "outputs": []
    },
    {
      "cell_type": "code",
      "metadata": {
        "id": "k1a32jWCE2YF"
      },
      "source": [
        "\n",
        "data.Cum_Quality=data.Cum_Quality-data.Quantity\n",
        "data.Cum_Invoice=data.Cum_Invoice-data['Invoice_Value']"
      ],
      "execution_count": null,
      "outputs": []
    },
    {
      "cell_type": "code",
      "metadata": {
        "id": "NchBCAsiGrao"
      },
      "source": [
        "data['Purchased']=data.Quantity>0"
      ],
      "execution_count": null,
      "outputs": []
    },
    {
      "cell_type": "code",
      "metadata": {
        "id": "3JPceXEV-Vs6"
      },
      "source": [
        "import numpy as np"
      ],
      "execution_count": null,
      "outputs": []
    },
    {
      "cell_type": "code",
      "metadata": {
        "id": "jIKrOC2H6QS8"
      },
      "source": [
        "list_data=[]\n",
        "i=0\n",
        "for customer_id in data['Customer_ID'].unique():\n",
        "  df_cust=data.loc[data['Customer_ID']==customer_id,:]\n",
        "  df_cust=df_cust.sort_index()\n",
        "  df_cust.loc[df_cust.index[0],'last_purchase_since']=pd.np.inf\n",
        "  i+=1\n",
        "  print(df_cust)\n",
        "  if(i>5):\n",
        "    break\n",
        "\n",
        "  df_cust['last_purchased_date']=df_cust.loc[df_cust['Purchased'],'Date']\n",
        "  df_cust['last_purchased_date'].fillna(method='ffill',inplace=True)\n",
        "  df_cust.loc[df_cust['Purchased'],'last_purchased_date']=pd.np.nan\n",
        "  df_cust['last_purchased_date'].fillna(method='bfill',inplace=True)\n",
        "  df_cust['last_purchase_since']=df_cust['Date']-df_cust['last_purchased_date']\n",
        "  df_cust.last_purchase_since=pd.to_numeric(df_cust.last_purchase_since.dt.days, downcast='integer')\n",
        "  df_cust.loc[df_cust['last_purchase_since']<0,'last_purchase_since']=pd.np.nan\n",
        "  df_cust['last_purchase_since'].fillna(np.inf,inplace=True)\n",
        "  list_data.append(df_cust)\n",
        "  \n",
        "  #data.loc[data['Customer ID']==customer_id,'last_purchase_since']=\n",
        "\n"
      ],
      "execution_count": null,
      "outputs": []
    },
    {
      "cell_type": "code",
      "metadata": {
        "id": "pOug8US0M6SM"
      },
      "source": [
        "df_data=df = pd.concat(list_data)"
      ],
      "execution_count": null,
      "outputs": []
    },
    {
      "cell_type": "code",
      "metadata": {
        "id": "N5-LZurnS_U2"
      },
      "source": [
        "df_data.to_csv('featureset.csv')"
      ],
      "execution_count": null,
      "outputs": []
    },
    {
      "cell_type": "code",
      "metadata": {
        "id": "SL7tdfwjAKfR"
      },
      "source": [
        "pd.to_numeric(df_data.last_purchase_since.dt.days, downcast='integer')"
      ],
      "execution_count": null,
      "outputs": []
    },
    {
      "cell_type": "code",
      "metadata": {
        "id": "_5gKzjTe1CNI"
      },
      "source": [
        "df_data"
      ],
      "execution_count": null,
      "outputs": []
    },
    {
      "cell_type": "code",
      "metadata": {
        "id": "krI0s_Wl2iuX"
      },
      "source": [
        ""
      ],
      "execution_count": null,
      "outputs": []
    }
  ]
}